{
 "cells": [
  {
   "cell_type": "code",
   "execution_count": 4,
   "id": "cb64bf09",
   "metadata": {},
   "outputs": [
    {
     "ename": "ModuleNotFoundError",
     "evalue": "No module named 'oapackage'",
     "output_type": "error",
     "traceback": [
      "\u001b[1;31m---------------------------------------------------------------------------\u001b[0m",
      "\u001b[1;31mModuleNotFoundError\u001b[0m                       Traceback (most recent call last)",
      "Input \u001b[1;32mIn [4]\u001b[0m, in \u001b[0;36m<cell line: 4>\u001b[1;34m()\u001b[0m\n\u001b[0;32m      1\u001b[0m \u001b[38;5;28;01mimport\u001b[39;00m \u001b[38;5;21;01mnumpy\u001b[39;00m \u001b[38;5;28;01mas\u001b[39;00m \u001b[38;5;21;01mnp\u001b[39;00m\n\u001b[0;32m      2\u001b[0m \u001b[38;5;28;01mimport\u001b[39;00m \u001b[38;5;21;01mmatplotlib\u001b[39;00m\u001b[38;5;21;01m.\u001b[39;00m\u001b[38;5;21;01mpyplot\u001b[39;00m \u001b[38;5;28;01mas\u001b[39;00m \u001b[38;5;21;01mplt\u001b[39;00m\n\u001b[1;32m----> 4\u001b[0m \u001b[38;5;28;01mimport\u001b[39;00m \u001b[38;5;21;01moapackage\u001b[39;00m\n\u001b[0;32m      5\u001b[0m pareto\u001b[38;5;241m=\u001b[39moapackage\u001b[38;5;241m.\u001b[39mParetoDoubleLong()\n\u001b[0;32m      7\u001b[0m datapoints\u001b[38;5;241m=\u001b[39mnp\u001b[38;5;241m.\u001b[39mrandom\u001b[38;5;241m.\u001b[39mrand(\u001b[38;5;241m2\u001b[39m, \u001b[38;5;241m50\u001b[39m)\n",
      "\u001b[1;31mModuleNotFoundError\u001b[0m: No module named 'oapackage'"
     ]
    }
   ],
   "source": [
    "import numpy as np\n",
    "import matplotlib.pyplot as plt\n",
    "\n",
    "import oapackage\n",
    "pareto=oapackage.ParetoDoubleLong()\n",
    "\n",
    "datapoints=np.random.rand(2, 50)\n",
    "\n",
    "for ii in range(0, datapoints.shape[1]):\n",
    "    w=datapoints[:,ii]\n",
    "    fac=.6+.4*np.linalg.norm(w)\n",
    "    datapoints[:,ii]=(1/fac)*w\n",
    "\n"
   ]
  },
  {
   "cell_type": "code",
   "execution_count": 2,
   "id": "5da8e930",
   "metadata": {},
   "outputs": [
    {
     "name": "stdout",
     "output_type": "stream",
     "text": [
      "Requirement already satisfied: oapackage in c:\\users\\tryso\\anaconda3\\envs\\pymarl\\lib\\site-packages (2.7.7)\n",
      "Requirement already satisfied: numpy>=1.22 in c:\\users\\tryso\\anaconda3\\envs\\pymarl\\lib\\site-packages (from oapackage) (1.23.5)\n",
      "Requirement already satisfied: python-dateutil in c:\\users\\tryso\\anaconda3\\envs\\pymarl\\lib\\site-packages (from oapackage) (2.8.2)\n",
      "Requirement already satisfied: matplotlib in c:\\users\\tryso\\anaconda3\\envs\\pymarl\\lib\\site-packages (from oapackage) (3.7.0)\n",
      "Requirement already satisfied: importlib-resources>=3.2.0 in c:\\users\\tryso\\anaconda3\\envs\\pymarl\\lib\\site-packages (from matplotlib->oapackage) (5.10.2)\n",
      "Requirement already satisfied: contourpy>=1.0.1 in c:\\users\\tryso\\anaconda3\\envs\\pymarl\\lib\\site-packages (from matplotlib->oapackage) (1.0.7)\n",
      "Requirement already satisfied: pillow>=6.2.0 in c:\\users\\tryso\\anaconda3\\envs\\pymarl\\lib\\site-packages (from matplotlib->oapackage) (9.3.0)\n",
      "Requirement already satisfied: cycler>=0.10 in c:\\users\\tryso\\anaconda3\\envs\\pymarl\\lib\\site-packages (from matplotlib->oapackage) (0.11.0)\n",
      "Requirement already satisfied: kiwisolver>=1.0.1 in c:\\users\\tryso\\anaconda3\\envs\\pymarl\\lib\\site-packages (from matplotlib->oapackage) (1.4.4)\n",
      "Requirement already satisfied: fonttools>=4.22.0 in c:\\users\\tryso\\anaconda3\\envs\\pymarl\\lib\\site-packages (from matplotlib->oapackage) (4.38.0)\n",
      "Requirement already satisfied: packaging>=20.0 in c:\\users\\tryso\\anaconda3\\envs\\pymarl\\lib\\site-packages (from matplotlib->oapackage) (23.0)\n",
      "Requirement already satisfied: pyparsing>=2.3.1 in c:\\users\\tryso\\anaconda3\\envs\\pymarl\\lib\\site-packages (from matplotlib->oapackage) (3.0.9)\n",
      "Requirement already satisfied: six>=1.5 in c:\\users\\tryso\\anaconda3\\envs\\pymarl\\lib\\site-packages (from python-dateutil->oapackage) (1.16.0)\n",
      "Requirement already satisfied: zipp>=3.1.0 in c:\\users\\tryso\\anaconda3\\envs\\pymarl\\lib\\site-packages (from importlib-resources>=3.2.0->matplotlib->oapackage) (3.13.0)\n"
     ]
    }
   ],
   "source": [
    "!pip install oapackage"
   ]
  },
  {
   "cell_type": "code",
   "execution_count": null,
   "id": "59a87b27",
   "metadata": {},
   "outputs": [],
   "source": []
  }
 ],
 "metadata": {
  "kernelspec": {
   "display_name": "Python 3 (ipykernel)",
   "language": "python",
   "name": "python3"
  },
  "language_info": {
   "codemirror_mode": {
    "name": "ipython",
    "version": 3
   },
   "file_extension": ".py",
   "mimetype": "text/x-python",
   "name": "python",
   "nbconvert_exporter": "python",
   "pygments_lexer": "ipython3",
   "version": "3.9.12"
  }
 },
 "nbformat": 4,
 "nbformat_minor": 5
}
